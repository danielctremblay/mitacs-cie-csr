{
 "cells": [
  {
   "cell_type": "code",
   "execution_count": 4,
   "metadata": {},
   "outputs": [
    {
     "name": "stdout",
     "output_type": "stream",
     "text": [
      "['Adaptive Social Problems', 'Angel Investors', 'B-Corporations', 'Blended Value', 'Brand Activism', 'Business Ethics', 'Cause-Related Marketing (CRM)', 'Circular Economy', 'Cluster Strategy', 'Coalition Strategy', 'Collective Impact', 'Collectivist Charity', 'Community Chest', 'Community Development Financial Institutions (CDFIs)', 'Complementary Corporate Foundation', 'Consumer-Company Indentification', 'Corporate Citizenship', 'Corporate Community Involvement (CCI)', 'Corporate Foundation', 'Corporate Philanthropy', 'Corporate Social Investing', 'Corporate Social Responsibility (CSR)', 'CSR Congruence Model (or CSR-ESR Congruence Model)', 'CSR Positioning', 'Corporate Sustainability Management', 'Dashboard', 'Descriptive Model', 'Diffuse Strategy', 'Do Tank', 'Donor-Advised Funds', 'Dow Jones Sustainability World Index (DJSI World)', 'Ethical Trusteeship Model', 'Employee Engagement Models', 'Employee Lifecycle Management', 'Employee Matching', 'Enhancing Corporate Foundation', 'External Corporate Social Responsibility', 'Firm-Specific Human Capital', 'Focused Strategy', 'Fourth Sector', 'Impact Investing', 'Institutionalized CSR Programs', 'Instrumental Model', 'Integral Corporate Foundation', 'Integrity-Based Ethics Management', 'Internal Corporate Social Responsibility', 'Isolated Impact', 'Liberal Model', 'Logic Model', 'Matching Gift', 'Management Top 250', 'Metrics', 'Microcredit/Microloans/Microfinance', 'Normative Model', 'Person-Environment Fit', 'Promotional CSR Programs', 'Public Value', 'RepTrak Pulse', 'Scorecard', 'Shared Value', 'Signaling', 'Skoll Award for Social Entrepreneurship', 'SMART Goals', 'Social Enterprise', 'Social Entrepreneurship', 'Social Impact', 'Social Impact Bonds', 'Social Intrapreneurship', 'Socially Responsible Mutual Funds', 'Social Return on Investment (SROI)', 'Social Venture Capital', 'Sovereign Corporate Foundation', 'Statist Model', 'Stakeholder Model', 'Stakeholder Theory', 'Stockholder Theory', 'Technical Social Problems', 'Think Tank', 'Triple Bottom Line', 'Trusteeship Model', 'Value Congruence', 'Values-Based Approach', 'Values-Driven Management', 'Venture Philanthropy']\n"
     ]
    }
   ],
   "source": [
    "import os\n",
    "import glob\n",
    "import time\n",
    "\n",
    "# make list of 'good words' - eg words in txt file = socially responsible phrases\n",
    "goodwords = []\n",
    "csr_dict = 'csr_dictionary.txt'\n",
    "with open(csr_dict,'r') as f:\n",
    "    gw=[w.strip('\\n') for w in f.readlines()]\n",
    "    goodwords.append(gw)\n",
    "print(gw)\n",
    "\n",
    "# iterate through csv files and check for good words\n",
    "listing = glob.glob('data/*.csv')\n",
    "\n",
    "# function to open each csv and search for good words\n",
    "def check_for_goodwords(listing):\n",
    "    for filename in listing:\n",
    "        #print(filename)\n",
    "        # open each csv file\n",
    "        with open(filename,'r') as f:\n",
    "            csv_words = f.readlines()\n",
    "            csv_words = [w.split(',') for w in csv_words]\n",
    "            #print(csv_words)\n",
    "            #for each good word in goodwords see if it in this CSV\n",
    "            for phrase in gw:\n",
    "                if phrase in csv_words:\n",
    "                    print(f\"\\nFOUND ONE in file {filename}! - {phrase}\")\n",
    "                    time.sleep(4)\n",
    "\n",
    "# run and check!!\n",
    "check_for_goodwords(listing)\n",
    "    "
   ]
  },
  {
   "cell_type": "code",
   "execution_count": null,
   "metadata": {},
   "outputs": [],
   "source": []
  }
 ],
 "metadata": {
  "kernelspec": {
   "display_name": "Python 3",
   "language": "python",
   "name": "python3"
  },
  "language_info": {
   "codemirror_mode": {
    "name": "ipython",
    "version": 3
   },
   "file_extension": ".py",
   "mimetype": "text/x-python",
   "name": "python",
   "nbconvert_exporter": "python",
   "pygments_lexer": "ipython3",
   "version": "3.8.5"
  }
 },
 "nbformat": 4,
 "nbformat_minor": 4
}
