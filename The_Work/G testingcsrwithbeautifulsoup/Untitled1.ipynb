{
 "cells": [
  {
   "cell_type": "code",
   "execution_count": 13,
   "metadata": {},
   "outputs": [
    {
     "name": "stdout",
     "output_type": "stream",
     "text": [
      "['Board of Directors']\n",
      "[]\n",
      "[]\n",
      "[]\n",
      "['Board of Directors', 'Board of Directors']\n",
      "[]\n",
      "['Board of Directors', 'Board of Directors', 'Board of Directors']\n",
      "['Board of Directors', 'Board of Directors', 'Board of Directors']\n",
      "[]\n",
      "[]\n",
      "['Board of Directors', 'Board of Directors']\n",
      "[]\n",
      "[]\n",
      "['Board of Directors']\n",
      "['Board of Directors', 'In June 2020, following the receipt of the amended and renewed draft WUL from the Yukon Water Board, Alexco made a decision to advance Keno Hill to production. The Company is a proven explorer, developer, and mine operator and is fully financed for production.', 'Board of Directors']\n",
      "[]\n",
      "['Discover our Board of Directors']\n",
      "[]\n",
      "['Almonty Announces The Commencement Of Its Corporate And Board Restructuring To Shift Its Focus Toward Korea']\n",
      "['Board of Directors']\n",
      "['\\n                                Altius Provides Q1 2021 Project Generation Update  and Announces Retirement of Board Member']\n",
      "['Altus Group announced today that the Board of Directors has approved the payment of a cash dividend of $0.15 per common share for the first quarter ending March 31, 2021.  ']\n",
      "['Board of Directors', 'Board of Directors']\n",
      "['Board of Directors']\n",
      "[]\n",
      "['Board of Directors', 'Board of Directors']\n",
      "['Board of Directors', 'Board of Directors', 'Board of Directors', 'Board of Directors']\n",
      "[]\n",
      "['Board of Trustees', 'Board of Trustees']\n",
      "['Board of Directors', 'Board of Directors']\n",
      "['Board']\n",
      "['Board of Directors', 'Board of Directors']\n",
      "[]\n",
      "['Board of Directors']\n",
      "[]\n",
      "[]\n",
      "[]\n",
      "[]\n",
      "['Dr. Justin Grant has over fifteen years experience in leading pharmaceutical research in sustained drug release formulations. He held academic appointments at the University of Toronto’s Faculty of Pharmacy and UHN’s Techna Institute for the Advancement of Technology for Health. For over 10 years, he has managed a $50M preclinical cancer research facility (the STTARR Innovation centre) at Princess Margaret Cancer Centre. Justin is currently the Chair of the Scientific Advisory Board for Avicanna.', \"Dr. Elena Pope is a Professor in the Department of Paediatrics at the University of Toronto. In 2003, she became the Director of the Section of Dermatology, Division of Paediatric Medicine at the Hospital for Sick Children, Toronto, Ontario, Canada. She received her medical training at The Institute of Medicine and Pharmacy, Bucharest Romania and the University of Toronto, and completed her training in Paediatrics and a fellowship in Pediatric Dermatology at the Hospital for Sick Children, Toronto. Since becoming Director of Paediatric Dermatology, Dr. Pope has instituted innovative approaches to the care of paediatric dermatological conditions by establishing interdisciplinary clinics in Epidermolysis Bullosa, Cutaneous T-cell lymphoma, Vascular Tumor Clinic, Morphea and Genodermatoses. She is a Project Investigator at the Research Institute, Hospital for Sick Children and is involved in numerous research projects stemming from her clinical interests focused on new interventions for rare and common pediatric dermatology conditions. Dr. Pope has many teaching commitments at the Hospital for Sick Children and has been the recipient of the Department of Paediatrics' Postgraduate Subspecialty Teaching Award. Dr. Pope has held leadership positions in PeDRA (Pediatric Dermatology Research Alliance)- past chair of the grants committee, current chair of the communication committee and member of the PeDRA’s Executive Committee and Board of Directors.\", 'Dr. Kotra is an academic entrepreneur with expertise in drug discovery and development. Kotra group specializes in the areas of medicinal chemistry, preclinical and clinical development of small molecule and natural product-based drugs. Dr. Kotra authored/co-authored over 120 peer-reviewed articles and book chapters, and delivered over 110 scientific and plenary talks globally. Kotra research group has contributed to a number of research programs in the areas of infectious, metabolic and neurodegenerative diseases. Dr. Kotra is a recipient of several awards including the Premier’s Research Excellence Award from the Province of Ontario (Canada), Rx&D Health Research Foundation Research Career award, GlaxoSmithKline/Canadian Society for Pharmaceutical Sciences Young Investigator Award. Dr. Kotra leads an international consortium with India for the development of novel chemical classes of drugs targeting malaria—a consortium of public and private organizations in Canada and India. Dr. Kotra is a co-founder of WinSanTor Inc., San Diego, California, USA (drugs targeting diabetic neuropathy, 2012-present), CIDAVA Innovations—an India-Canada joint venture (antimalarials, 2013-17), CannScience Innovations, Inc., Toronto, Canada (now Scientus Pharma, Inc.; novel cannabinoid products for medical uses, 2014-17). He currently serves on the Board of Directors of WinSanTor Biosciences (San Diego, CA), Scientific Advisory Boards of Scientus Pharma Inc. (Toronto) where he maintains Chief Scientific Officer/consultant role, Montdorex Inc. (Montreal, Canada), and College of Reviewers at the Canadian Institutes of Health Research.']\n"
     ]
    },
    {
     "ename": "AttributeError",
     "evalue": "'NoneType' object has no attribute 'find_all'",
     "output_type": "error",
     "traceback": [
      "\u001b[1;31m---------------------------------------------------------------------------\u001b[0m",
      "\u001b[1;31mAttributeError\u001b[0m                            Traceback (most recent call last)",
      "\u001b[1;32m<ipython-input-13-fe8f1d5e42e1>\u001b[0m in \u001b[0;36m<module>\u001b[1;34m\u001b[0m\n\u001b[0;32m     16\u001b[0m         \u001b[1;32mwith\u001b[0m \u001b[0mopen\u001b[0m\u001b[1;33m(\u001b[0m\u001b[0mfname\u001b[0m\u001b[1;33m,\u001b[0m \u001b[1;34m'r'\u001b[0m\u001b[1;33m,\u001b[0m\u001b[0mencoding\u001b[0m\u001b[1;33m=\u001b[0m\u001b[1;34m\"utf-8\"\u001b[0m\u001b[1;33m)\u001b[0m \u001b[1;32mas\u001b[0m \u001b[0mf\u001b[0m\u001b[1;33m:\u001b[0m\u001b[1;33m\u001b[0m\u001b[1;33m\u001b[0m\u001b[0m\n\u001b[0;32m     17\u001b[0m             \u001b[0msoup\u001b[0m \u001b[1;33m=\u001b[0m \u001b[0mBeautifulSoup\u001b[0m\u001b[1;33m(\u001b[0m\u001b[0mf\u001b[0m\u001b[1;33m.\u001b[0m\u001b[0mread\u001b[0m\u001b[1;33m(\u001b[0m\u001b[1;33m)\u001b[0m\u001b[1;33m,\u001b[0m\u001b[1;34m'html.parser'\u001b[0m\u001b[1;33m)\u001b[0m\u001b[1;33m\u001b[0m\u001b[1;33m\u001b[0m\u001b[0m\n\u001b[1;32m---> 18\u001b[1;33m             \u001b[0mprint\u001b[0m\u001b[1;33m(\u001b[0m\u001b[0msoup\u001b[0m\u001b[1;33m.\u001b[0m\u001b[0mbody\u001b[0m\u001b[1;33m.\u001b[0m\u001b[0mfind_all\u001b[0m\u001b[1;33m(\u001b[0m\u001b[0mtext\u001b[0m\u001b[1;33m=\u001b[0m\u001b[0mre\u001b[0m\u001b[1;33m.\u001b[0m\u001b[0mcompile\u001b[0m\u001b[1;33m(\u001b[0m\u001b[1;34m'.*{0}.*'\u001b[0m\u001b[1;33m.\u001b[0m\u001b[0mformat\u001b[0m\u001b[1;33m(\u001b[0m\u001b[0msearched_word\u001b[0m\u001b[1;33m)\u001b[0m\u001b[1;33m)\u001b[0m\u001b[1;33m,\u001b[0m \u001b[0mrecursive\u001b[0m\u001b[1;33m=\u001b[0m\u001b[1;32mTrue\u001b[0m\u001b[1;33m)\u001b[0m\u001b[1;33m)\u001b[0m\u001b[1;33m\u001b[0m\u001b[1;33m\u001b[0m\u001b[0m\n\u001b[0m",
      "\u001b[1;31mAttributeError\u001b[0m: 'NoneType' object has no attribute 'find_all'"
     ]
    }
   ],
   "source": [
    "import glob\n",
    "import pandas as pd \n",
    "import os\n",
    "from __future__ import division, unicode_literals \n",
    "import codecs\n",
    "from bs4 import BeautifulSoup\n",
    "import urllib\n",
    "import re\n",
    "from selenium import webdriver\n",
    "\n",
    "directory ='AnalyzingTextfiles'\n",
    "searched_word = 'Board'\n",
    "for filename in os.listdir(directory):\n",
    "    if filename.endswith('.html'):\n",
    "        fname = os.path.join(directory,filename)\n",
    "        with open(fname, 'r',encoding=\"utf-8\") as f:\n",
    "            soup = BeautifulSoup(f.read(),'html.parser')\n",
    "            print(soup.body.find_all(text=re.compile('.*{0}.*'.format(searched_word)), recursive=True))"
   ]
  },
  {
   "cell_type": "code",
   "execution_count": null,
   "metadata": {},
   "outputs": [],
   "source": []
  }
 ],
 "metadata": {
  "kernelspec": {
   "display_name": "Python 3",
   "language": "python",
   "name": "python3"
  },
  "language_info": {
   "codemirror_mode": {
    "name": "ipython",
    "version": 3
   },
   "file_extension": ".py",
   "mimetype": "text/x-python",
   "name": "python",
   "nbconvert_exporter": "python",
   "pygments_lexer": "ipython3",
   "version": "3.8.5"
  }
 },
 "nbformat": 4,
 "nbformat_minor": 4
}
